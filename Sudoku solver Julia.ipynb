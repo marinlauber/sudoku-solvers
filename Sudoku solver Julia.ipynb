{
 "cells": [
  {
   "cell_type": "code",
   "execution_count": 1,
   "metadata": {},
   "outputs": [],
   "source": [
    "using PyCall\n",
    "numpy = pyimport(\"numpy\");"
   ]
  },
  {
   "cell_type": "markdown",
   "metadata": {},
   "source": [
    "<img src=\"https://p3.storage.canalblog.com/37/36/99623/47284274.jpg\">"
   ]
  },
  {
   "cell_type": "code",
   "execution_count": 2,
   "metadata": {},
   "outputs": [
    {
     "data": {
      "text/plain": [
       "9×9 Array{Int64,2}:\n",
       " 0  0  2  0  8  0  0  6  3\n",
       " 0  0  1  3  0  0  0  9  0\n",
       " 4  0  0  9  6  0  0  0  1\n",
       " 0  0  0  0  0  0  0  0  0\n",
       " 0  7  9  8  0  0  0  0  4\n",
       " 1  0  0  0  3  0  0  0  9\n",
       " 3  0  8  0  0  0  1  2  7\n",
       " 0  0  7  2  0  0  0  4  5\n",
       " 0  0  4  7  0  0  9  0  6"
      ]
     },
     "execution_count": 2,
     "metadata": {},
     "output_type": "execute_result"
    }
   ],
   "source": [
    "grid = numpy.array([[0,0,2,0,8,0,0,6,3],\n",
    "                    [0,0,1,3,0,0,0,9,0],\n",
    "                    [4,0,0,9,6,0,0,0,1],\n",
    "                    [0,0,0,0,0,0,0,0,0],\n",
    "                    [0,7,9,8,0,0,0,0,4],\n",
    "                    [1,0,0,0,3,0,0,0,9],\n",
    "                    [3,0,8,0,0,0,1,2,7],\n",
    "                    [0,0,7,2,0,0,0,4,5],\n",
    "                    [0,0,4,7,0,0,9,0,6]])"
   ]
  },
  {
   "cell_type": "code",
   "execution_count": 3,
   "metadata": {},
   "outputs": [
    {
     "data": {
      "text/plain": [
       "possible (generic function with 1 method)"
      ]
     },
     "execution_count": 3,
     "metadata": {},
     "output_type": "execute_result"
    }
   ],
   "source": [
    "function possible(x, y, n)\n",
    "    for i=1:9\n",
    "        if (grid[x,i] == n) \n",
    "            return false\n",
    "        end\n",
    "        if (grid[i,y] == n)\n",
    "            return false\n",
    "        end\n",
    "    end\n",
    "    x0 = ((x-1) ÷ 3) * 3\n",
    "    y0 = ((y-1) ÷ 3) * 3\n",
    "    for i=1:3, j=1:3\n",
    "        if (grid[x0+i,y0+j] == n)\n",
    "            return false\n",
    "        end\n",
    "    end\n",
    "    return true\n",
    "end "
   ]
  },
  {
   "cell_type": "code",
   "execution_count": 4,
   "metadata": {},
   "outputs": [
    {
     "data": {
      "text/plain": [
       "solve_sudoku (generic function with 1 method)"
      ]
     },
     "execution_count": 4,
     "metadata": {},
     "output_type": "execute_result"
    }
   ],
   "source": [
    "function solve_sudoku()\n",
    "    for x=1:9, y=1:9\n",
    "        # if we have a blank,  try to fill it\n",
    "        if (grid[x, y] == 0)\n",
    "            for n=1:9\n",
    "                if possible(x, y, n)\n",
    "                    # if its possible to fill, fill it\n",
    "                    grid[x, y] = n\n",
    "                    # recurse\n",
    "                    solve_sudoku()\n",
    "                    # back track if not possible to solve\n",
    "                    grid[x, y] = 0\n",
    "                end\n",
    "            end\n",
    "            # retrun if done\n",
    "            return\n",
    "        end\n",
    "    end\n",
    "    display(grid)\n",
    "end"
   ]
  },
  {
   "cell_type": "code",
   "execution_count": 5,
   "metadata": {},
   "outputs": [
    {
     "data": {
      "text/plain": [
       "9×9 Array{Int64,2}:\n",
       " 9  5  2  1  8  4  7  6  3\n",
       " 7  6  1  3  2  5  4  9  8\n",
       " 4  8  3  9  6  7  2  5  1\n",
       " 8  3  6  4  7  9  5  1  2\n",
       " 2  7  9  8  5  1  6  3  4\n",
       " 1  4  5  6  3  2  8  7  9\n",
       " 3  9  8  5  4  6  1  2  7\n",
       " 6  1  7  2  9  8  3  4  5\n",
       " 5  2  4  7  1  3  9  8  6"
      ]
     },
     "metadata": {},
     "output_type": "display_data"
    }
   ],
   "source": [
    "solve_sudoku()"
   ]
  }
 ],
 "metadata": {
  "kernelspec": {
   "display_name": "Julia 1.2.0",
   "language": "julia",
   "name": "julia-1.2"
  },
  "language_info": {
   "file_extension": ".jl",
   "mimetype": "application/julia",
   "name": "julia",
   "version": "1.2.0"
  }
 },
 "nbformat": 4,
 "nbformat_minor": 2
}
