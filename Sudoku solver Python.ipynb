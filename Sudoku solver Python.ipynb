{
 "cells": [
  {
   "cell_type": "code",
   "execution_count": 1,
   "metadata": {},
   "outputs": [],
   "source": [
    "import numpy as np"
   ]
  },
  {
   "cell_type": "markdown",
   "metadata": {},
   "source": [
    "<img src=\"https://p3.storage.canalblog.com/37/36/99623/47284274.jpg\">"
   ]
  },
  {
   "cell_type": "code",
   "execution_count": 2,
   "metadata": {},
   "outputs": [],
   "source": [
    "grid = np.array([[0,0,2,0,8,0,0,6,3],\n",
    "                 [0,0,1,3,0,0,0,9,0],\n",
    "                 [4,0,0,9,6,0,0,0,1],\n",
    "                 [0,0,0,0,0,0,0,0,0],\n",
    "                 [0,7,9,8,0,0,0,0,4],\n",
    "                 [1,0,0,0,3,0,0,0,9],\n",
    "                 [3,0,8,0,0,0,1,2,7],\n",
    "                 [0,0,7,2,0,0,0,4,5],\n",
    "                 [0,0,4,7,0,0,9,0,6]])"
   ]
  },
  {
   "cell_type": "code",
   "execution_count": 3,
   "metadata": {},
   "outputs": [
    {
     "name": "stdout",
     "output_type": "stream",
     "text": [
      "[[0 0 2 0 8 0 0 6 3]\n",
      " [0 0 1 3 0 0 0 9 0]\n",
      " [4 0 0 9 6 0 0 0 1]\n",
      " [0 0 0 0 0 0 0 0 0]\n",
      " [0 7 9 8 0 0 0 0 4]\n",
      " [1 0 0 0 3 0 0 0 9]\n",
      " [3 0 8 0 0 0 1 2 7]\n",
      " [0 0 7 2 0 0 0 4 5]\n",
      " [0 0 4 7 0 0 9 0 6]]\n"
     ]
    }
   ],
   "source": [
    "print(grid)"
   ]
  },
  {
   "cell_type": "code",
   "execution_count": 5,
   "metadata": {},
   "outputs": [],
   "source": [
    "def possible(x, y, n):\n",
    "    global grid\n",
    "    if np.any(grid[x,:] == n):\n",
    "        return False\n",
    "    if np.any(grid[:,y] == n):\n",
    "        return False\n",
    "    x0 = (x//3)*3\n",
    "    y0 = (y//3)*3\n",
    "    if np.any(grid[x0:x0+3,y0:y0+3] == n):\n",
    "        return False\n",
    "    return True"
   ]
  },
  {
   "cell_type": "code",
   "execution_count": 6,
   "metadata": {},
   "outputs": [],
   "source": [
    "def solve_sudoku():\n",
    "    global grid\n",
    "    # loop over all points in the gird\n",
    "    for x in range(9):\n",
    "        for y in range(9):\n",
    "            # if we have a blank,  try to fill it\n",
    "            if grid[x, y] == 0:\n",
    "                for n in range(1,10):\n",
    "                    if possible(x, y, n):\n",
    "                        # if its possible to fill, fill it\n",
    "                        grid[x, y] = n\n",
    "                        # recurse\n",
    "                        solve_sudoku()\n",
    "                        # back track if not possible to solve\n",
    "                        grid[x, y] = 0\n",
    "                # retrun if done\n",
    "                return\n",
    "    # show result\n",
    "    print(grid)"
   ]
  },
  {
   "cell_type": "code",
   "execution_count": 7,
   "metadata": {},
   "outputs": [
    {
     "name": "stdout",
     "output_type": "stream",
     "text": [
      "[[9 5 2 1 8 4 7 6 3]\n",
      " [7 6 1 3 2 5 4 9 8]\n",
      " [4 8 3 9 6 7 2 5 1]\n",
      " [8 3 6 4 7 9 5 1 2]\n",
      " [2 7 9 8 5 1 6 3 4]\n",
      " [1 4 5 6 3 2 8 7 9]\n",
      " [3 9 8 5 4 6 1 2 7]\n",
      " [6 1 7 2 9 8 3 4 5]\n",
      " [5 2 4 7 1 3 9 8 6]]\n"
     ]
    }
   ],
   "source": [
    "solve_sudoku()"
   ]
  }
 ],
 "metadata": {
  "kernelspec": {
   "display_name": "Python 3",
   "language": "python",
   "name": "python3"
  },
  "language_info": {
   "codemirror_mode": {
    "name": "ipython",
    "version": 3
   },
   "file_extension": ".py",
   "mimetype": "text/x-python",
   "name": "python",
   "nbconvert_exporter": "python",
   "pygments_lexer": "ipython3",
   "version": "3.7.3"
  }
 },
 "nbformat": 4,
 "nbformat_minor": 2
}
